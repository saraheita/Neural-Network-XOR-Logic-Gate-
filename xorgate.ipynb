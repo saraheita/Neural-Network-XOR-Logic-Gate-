{
  "nbformat": 4,
  "nbformat_minor": 0,
  "metadata": {
    "colab": {
      "provenance": [],
      "authorship_tag": "ABX9TyNq1PccKjBr6AnUxepMTpD2",
      "include_colab_link": true
    },
    "kernelspec": {
      "name": "python3",
      "display_name": "Python 3"
    },
    "language_info": {
      "name": "python"
    }
  },
  "cells": [
    {
      "cell_type": "markdown",
      "metadata": {
        "id": "view-in-github",
        "colab_type": "text"
      },
      "source": [
        "<a href=\"https://colab.research.google.com/github/saraheita/Neural-Network-XOR-Logic-Gate-/blob/main/xorgate.ipynb\" target=\"_parent\"><img src=\"https://colab.research.google.com/assets/colab-badge.svg\" alt=\"Open In Colab\"/></a>"
      ]
    },
    {
      "cell_type": "code",
      "execution_count": 1,
      "metadata": {
        "colab": {
          "base_uri": "https://localhost:8080/"
        },
        "id": "WqqaKASXylMQ",
        "outputId": "ec69ac20-99d4-4f63-fcc3-d8016386e892"
      },
      "outputs": [
        {
          "output_type": "stream",
          "name": "stdout",
          "text": [
            "Epoch 0, Loss: 0.9122, Accuracy: 0.5000\n",
            "Epoch 1000, Loss: 0.6253, Accuracy: 0.7500\n",
            "Epoch 2000, Loss: 0.0298, Accuracy: 1.0000\n",
            "Epoch 3000, Loss: 0.0120, Accuracy: 1.0000\n",
            "Epoch 4000, Loss: 0.0074, Accuracy: 1.0000\n",
            "Epoch 5000, Loss: 0.0053, Accuracy: 1.0000\n",
            "Epoch 6000, Loss: 0.0042, Accuracy: 1.0000\n",
            "Epoch 7000, Loss: 0.0034, Accuracy: 1.0000\n",
            "Epoch 8000, Loss: 0.0029, Accuracy: 1.0000\n",
            "Epoch 9000, Loss: 0.0025, Accuracy: 1.0000\n",
            "\n",
            "Learned Parameters:\n",
            "Weights (input to hidden):\n",
            "[[5.8128934 7.483253 ]\n",
            " [5.8128147 7.4828715]]\n",
            "Biases (hidden):\n",
            "[-8.88687   -3.4345088]\n",
            "Weights (hidden to output):\n",
            "[[-14.118134]\n",
            " [ 13.363494]]\n",
            "Bias (output):\n",
            "[-6.289386]\n",
            "\n",
            "Predicted XOR Truth Table:\n",
            "[[0. 0. 0.]\n",
            " [1. 0. 1.]\n",
            " [0. 1. 1.]\n",
            " [1. 1. 0.]]\n"
          ]
        }
      ],
      "source": [
        "import tensorflow as tf\n",
        "import numpy as np\n",
        "\n",
        "# Define XOR Neural Network Model\n",
        "class XORGate(tf.Module):\n",
        "    def __init__(self, hidden_units=2):\n",
        "        super().__init__()\n",
        "        self.built = False\n",
        "        self.hidden_units = hidden_units\n",
        "\n",
        "    def __call__(self, x):\n",
        "        if not self.built:\n",
        "            input_dim = x.shape[-1]\n",
        "\n",
        "            # First layer (Input to Hidden)\n",
        "            self.w1 = tf.Variable(tf.random.normal([input_dim, self.hidden_units]), name=\"w1\")\n",
        "            self.b1 = tf.Variable(tf.zeros([self.hidden_units]), name=\"b1\")\n",
        "\n",
        "            # Second layer (Hidden to Output)\n",
        "            self.w2 = tf.Variable(tf.random.normal([self.hidden_units, 1]), name=\"w2\")\n",
        "            self.b2 = tf.Variable(tf.zeros([1]), name=\"b2\")\n",
        "\n",
        "            self.built = True\n",
        "\n",
        "        # Forward pass\n",
        "        hidden = tf.nn.sigmoid(tf.add(tf.matmul(x, self.w1), self.b1))  # Hidden layer activation\n",
        "        output = tf.nn.sigmoid(tf.add(tf.matmul(hidden, self.w2), self.b2))  # Output layer activation\n",
        "        return output\n",
        "\n",
        "# Loss function (Binary Cross-Entropy for better performance)\n",
        "def compute_loss(y_pred, y_true):\n",
        "    return tf.reduce_mean(tf.keras.losses.binary_crossentropy(y_true, y_pred))\n",
        "\n",
        "# Training function\n",
        "def train_model(model, x_train, y_train, learning_rate=0.5, epochs=10000):\n",
        "    optimizer = tf.optimizers.SGD(learning_rate)\n",
        "\n",
        "    for epoch in range(epochs):\n",
        "        with tf.GradientTape() as tape:\n",
        "            y_pred = model(x_train)\n",
        "            loss = compute_loss(y_pred, y_train)\n",
        "\n",
        "        grads = tape.gradient(loss, [model.w1, model.b1, model.w2, model.b2])\n",
        "        optimizer.apply_gradients(zip(grads, [model.w1, model.b1, model.w2, model.b2]))\n",
        "\n",
        "        if epoch % 1000 == 0:\n",
        "            acc = compute_accuracy(model, x_train, y_train)\n",
        "            tf.print(f\"Epoch {epoch}, Loss: {loss:.4f}, Accuracy: {acc:.4f}\")\n",
        "\n",
        "# Accuracy function\n",
        "def compute_accuracy(model, x, y_true):\n",
        "    y_pred = model(x)\n",
        "    y_pred_rounded = tf.round(y_pred)\n",
        "    correct = tf.equal(y_pred_rounded, y_true)\n",
        "    return tf.reduce_mean(tf.cast(correct, tf.float32)).numpy()\n",
        "\n",
        "# XOR dataset\n",
        "xor_table = np.array([[0, 0, 0],\n",
        "                      [1, 0, 1],\n",
        "                      [0, 1, 1],\n",
        "                      [1, 1, 0]], dtype=np.float32)\n",
        "\n",
        "x_train = xor_table[:, :2]  # Inputs: x1, x2\n",
        "y_train = xor_table[:, 2:]  # Labels: y\n",
        "\n",
        "# Train XOR model\n",
        "model = XORGate()\n",
        "train_model(model, x_train, y_train)\n",
        "\n",
        "# Print learned parameters\n",
        "print(\"\\nLearned Parameters:\")\n",
        "print(f\"Weights (input to hidden):\\n{model.w1.numpy()}\")\n",
        "print(f\"Biases (hidden):\\n{model.b1.numpy()}\")\n",
        "print(f\"Weights (hidden to output):\\n{model.w2.numpy()}\")\n",
        "print(f\"Bias (output):\\n{model.b2.numpy()}\")\n",
        "\n",
        "# Test model predictions\n",
        "y_pred = model(x_train).numpy().round().astype(np.uint8)\n",
        "print(\"\\nPredicted XOR Truth Table:\")\n",
        "print(np.column_stack((xor_table[:, :2], y_pred)))\n"
      ]
    }
  ]
}